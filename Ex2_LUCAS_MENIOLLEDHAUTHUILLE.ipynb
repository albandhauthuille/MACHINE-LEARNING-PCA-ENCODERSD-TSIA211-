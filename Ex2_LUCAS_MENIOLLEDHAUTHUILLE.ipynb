{
 "cells": [
  {
   "cell_type": "markdown",
   "metadata": {
    "colab_type": "text",
    "id": "iafPdtuncbq7"
   },
   "source": [
    "<h1><center>Autoencoder on MNIST using Keras<center></h1>"
   ]
  },
  {
   "cell_type": "code",
   "execution_count": 255,
   "metadata": {},
   "outputs": [],
   "source": [
    "import matplotlib.pyplot as plt\n",
    "%matplotlib inline\n",
    "import numpy as np\n",
    "import pandas as pd"
   ]
  },
  {
   "cell_type": "markdown",
   "metadata": {
    "colab_type": "text",
    "id": "I4VrCB5La5rD"
   },
   "source": [
    "## Importing Keras"
   ]
  },
  {
   "cell_type": "code",
   "execution_count": 256,
   "metadata": {
    "colab": {
     "base_uri": "https://localhost:8080/",
     "height": 50
    },
    "colab_type": "code",
    "id": "OlKZ3Hnas7B4",
    "outputId": "c68acc01-8a3d-428b-adb6-c35d61a2a868"
   },
   "outputs": [
    {
     "name": "stdout",
     "output_type": "stream",
     "text": [
      "Using tensorflow version 1.10.0\n",
      "Using keras version 2.1.6-tf\n"
     ]
    }
   ],
   "source": [
    "import tensorflow as tf\n",
    "import tensorflow.keras as keras\n",
    "print(\"Using tensorflow version \" + str(tf.__version__))\n",
    "print(\"Using keras version \" + str(keras.__version__))"
   ]
  },
  {
   "cell_type": "markdown",
   "metadata": {
    "colab_type": "text",
    "id": "s_QLz9_jbRZq"
   },
   "source": [
    "## Loading and preparing the MNIST dataset"
   ]
  },
  {
   "cell_type": "markdown",
   "metadata": {
    "colab_type": "text",
    "id": "qLtK5hWxUUDD"
   },
   "source": [
    "Load the MNIST dataset via keras.datasets. Again, turn train and test labels into one-hot encoding, and reshape and normalize data as in the first exercise. "
   ]
  },
  {
   "cell_type": "code",
   "execution_count": 207,
   "metadata": {
    "cellView": "both",
    "colab": {
     "base_uri": "https://localhost:8080/",
     "height": 84
    },
    "colab_type": "code",
    "id": "gG83hGyVmijn",
    "outputId": "196d30d8-63d4-4737-c472-ada2e56f583d"
   },
   "outputs": [],
   "source": [
    "# The MNSIT dataset is ready to be imported from Keras into RAM\n",
    "# Warning: you cannot do that for larger databases (e.g., ImageNet)\n",
    "\n",
    "from keras.datasets import mnist\n",
    "# START CODE HERE\n",
    "\n",
    "from keras.datasets import mnist\n",
    "(x_train, y_train),(x_test, y_test) =mnist.load_data(path=\"mnist.npz\")\n",
    "\n",
    "#END CODE HERE"
   ]
  },
  {
   "cell_type": "code",
   "execution_count": 208,
   "metadata": {
    "colab": {
     "base_uri": "https://localhost:8080/",
     "height": 50
    },
    "colab_type": "code",
    "id": "lQbkllF8mnaf",
    "outputId": "b1d3ff0a-89e2-4e97-ef2d-daae210855a9"
   },
   "outputs": [
    {
     "data": {
      "text/plain": [
       "array([[0., 0., 0., ..., 0., 0., 0.],\n",
       "       [1., 0., 0., ..., 0., 0., 0.],\n",
       "       [0., 0., 0., ..., 0., 0., 0.],\n",
       "       ...,\n",
       "       [0., 0., 0., ..., 0., 0., 0.],\n",
       "       [0., 0., 0., ..., 0., 0., 0.],\n",
       "       [0., 0., 0., ..., 0., 1., 0.]], dtype=float32)"
      ]
     },
     "execution_count": 208,
     "metadata": {},
     "output_type": "execute_result"
    }
   ],
   "source": [
    "# Do you remember about one-hot encoding ?\n",
    "from keras.utils.np_utils import to_categorical\n",
    "\n",
    "# START CODE HERE\n",
    "from keras.utils.np_utils import to_categorical\n",
    "\n",
    "boolean = True\n",
    "if boolean:\n",
    "    y_train, y_test = to_categorical(y_train),to_categorical(y_test)\n",
    "    boolean = False\n",
    "y_train\n",
    "\n",
    "# END CODE HERE"
   ]
  },
  {
   "cell_type": "code",
   "execution_count": 5,
   "metadata": {},
   "outputs": [
    {
     "data": {
      "text/plain": [
       "(60000, 28, 28)"
      ]
     },
     "execution_count": 5,
     "metadata": {},
     "output_type": "execute_result"
    }
   ],
   "source": [
    "x_train.shape"
   ]
  },
  {
   "cell_type": "code",
   "execution_count": 34,
   "metadata": {},
   "outputs": [
    {
     "data": {
      "text/plain": [
       "(10000, 28, 28)"
      ]
     },
     "execution_count": 34,
     "metadata": {},
     "output_type": "execute_result"
    }
   ],
   "source": [
    "x_test.shape"
   ]
  },
  {
   "cell_type": "code",
   "execution_count": 221,
   "metadata": {
    "colab": {
     "base_uri": "https://localhost:8080/",
     "height": 84
    },
    "colab_type": "code",
    "id": "ptTRSDo5nJyZ",
    "outputId": "d8a3db4b-fa52-44a7-899f-9b53c1d6215c"
   },
   "outputs": [
    {
     "name": "stdout",
     "output_type": "stream",
     "text": [
      "\n",
      "New mean of the train_image:  -1.7174248e-09\n",
      "New std of the train_image:  0.95633847\n",
      "\n",
      "New mean of the test_image:  0.0024957662\n",
      "New std of the test_image:  0.9571717\n"
     ]
    }
   ],
   "source": [
    "# Reshape to proper images with 1 color channel according to backend scheme\n",
    "\n",
    "# START CODE HERE\n",
    "\n",
    "train_images = x_train.reshape(60000,-1)\n",
    "test_images=x_test.reshape(10000,-1)\n",
    "\n",
    "# END CODE HERE\n",
    "\n",
    "# Cast pixels from uint8 to float32\n",
    "train_images = train_images.astype('float32')\n",
    "test_images = test_images.astype('float32')\n",
    "\n",
    "\n",
    "# Now let us normalize the images so that they have zero mean and standard deviation\n",
    "# Hint: are real testing data statistics known at training time ?\n",
    "\n",
    "# START CODE HERE\n",
    "\n",
    "from sklearn.preprocessing import StandardScaler\n",
    "scaler = StandardScaler()\n",
    "train_images = scaler.fit_transform(train_images)\n",
    "test_images = scaler.transform(test_images)\n",
    "\n",
    "print(\"\\nNew mean of the train_image: \",np.mean(train_images))\n",
    "print(\"New std of the train_image: \",np.std(train_images))\n",
    "\n",
    "print(\"\\nNew mean of the test_image: \",np.mean(test_images))\n",
    "print(\"New std of the test_image: \",np.std(test_images))\n",
    "\n",
    "# END CODE HERE"
   ]
  },
  {
   "cell_type": "markdown",
   "metadata": {},
   "source": [
    "## Autoencoder and PCA\n",
    "\n",
    "First, we will try to connect the representation produced by Principal Component Analysis with what is learnt by a simple, linear, autoencoder. We will use the ```scikit-learn``` implementation of the ```PCA``` to obtain the two first components (hint: use the attribute ```.components_```), and visualize them:"
   ]
  },
  {
   "cell_type": "code",
   "execution_count": 223,
   "metadata": {},
   "outputs": [
    {
     "data": {
      "text/plain": [
       "Text(0.5, 1.0, 'PCA2')"
      ]
     },
     "execution_count": 223,
     "metadata": {},
     "output_type": "execute_result"
    },
    {
     "data": {
      "image/png": "[encoded data removed]",
      "text/plain": [
       "<Figure size 432x432 with 2 Axes>"
      ]
     },
     "metadata": {
      "needs_background": "light"
     },
     "output_type": "display_data"
    }
   ],
   "source": [
    "\n",
    "from sklearn.decomposition import PCA\n",
    "# Let's find the first 2 PCA components\n",
    "num_components = 2\n",
    "# START CODE HERE\n",
    "from sklearn import decomposition\n",
    "\n",
    "pca = decomposition.PCA(n_components=num_components)\n",
    "train_images_pca=pca.fit_transform(train_images)\n",
    "\n",
    "pca1,pca2=pca.components_\n",
    "\n",
    "# END CODE HERE\n",
    "\n",
    "# Reshape so they resemble images and we can print them\n",
    "# START CODE HERE\n",
    "\n",
    "pca1=pca1.reshape(28,28)\n",
    "pca2=pca2.reshape(28,28)\n",
    "\n",
    "# END CODE HERE\n",
    "\n",
    "# Show the reshaped principal components\n",
    "# START CODE HERE\n",
    "\n",
    "fig, axes = plt.subplots(1, 2, figsize=(6,6))\n",
    "\n",
    "ax = axes[0]\n",
    "ax.imshow(pca1)\n",
    "ax.set_title(\"PCA1\")\n",
    "\n",
    "ax = axes[1]\n",
    "ax.imshow(pca2)\n",
    "ax.set_title(\"PCA2\")\n",
    "\n",
    "# END CODE HERE"
   ]
  },
  {
   "cell_type": "code",
   "execution_count": 224,
   "metadata": {},
   "outputs": [
    {
     "data": {
      "text/plain": [
       "array([40.48894 , 29.241362], dtype=float32)"
      ]
     },
     "execution_count": 224,
     "metadata": {},
     "output_type": "execute_result"
    }
   ],
   "source": [
    "# Print the variance explained by those components\n",
    "pca.explained_variance_"
   ]
  },
  {
   "cell_type": "markdown",
   "metadata": {},
   "source": [
    "**Comment on the visualization in relation to the variance explained by only keeping the two principal components.**"
   ]
  },
  {
   "cell_type": "markdown",
   "metadata": {},
   "source": [
    "Now, we will use Keras to implement the autoencoder. You can take a look at this [cheatsheet](https://s3.amazonaws.com/assets.datacamp.com/blog_assets/Keras_Cheat_Sheet_Python.pdf) for some basic commands to use keras.\n",
    "\n",
    "In this first case, we implement a **simple linear autoencoder**. Build it in order to have the same capacity as the PCA decomposition (2 hidden dimensions !) we made just above. "
   ]
  },
  {
   "cell_type": "code",
   "execution_count": 226,
   "metadata": {},
   "outputs": [],
   "source": [
    "from tensorflow.keras.models import Model\n",
    "from tensorflow.keras.layers import Input, Dense\n",
    "from tensorflow.keras.optimizers import SGD"
   ]
  },
  {
   "cell_type": "code",
   "execution_count": 227,
   "metadata": {},
   "outputs": [],
   "source": [
    "# Input layer\n",
    "input_layer = Input(shape=(784,))"
   ]
  },
  {
   "cell_type": "code",
   "execution_count": 228,
   "metadata": {},
   "outputs": [],
   "source": [
    "# Encoding layer\n",
    "latent_view = Dense(2)(input_layer)"
   ]
  },
  {
   "cell_type": "code",
   "execution_count": 229,
   "metadata": {},
   "outputs": [],
   "source": [
    "# Decoding layer\n",
    "output_layer = Dense(784, activation='sigmoid')(latent_view)"
   ]
  },
  {
   "cell_type": "code",
   "execution_count": 230,
   "metadata": {},
   "outputs": [
    {
     "name": "stdout",
     "output_type": "stream",
     "text": [
      "_________________________________________________________________\n",
      "Layer (type)                 Output Shape              Param #   \n",
      "=================================================================\n",
      "input_12 (InputLayer)        (None, 784)               0         \n",
      "_________________________________________________________________\n",
      "dense_33 (Dense)             (None, 2)                 1570      \n",
      "_________________________________________________________________\n",
      "dense_34 (Dense)             (None, 784)               2352      \n",
      "=================================================================\n",
      "Total params: 3,922\n",
      "Trainable params: 3,922\n",
      "Non-trainable params: 0\n",
      "_________________________________________________________________\n"
     ]
    }
   ],
   "source": [
    "ae_model = Model(input_layer, output_layer, name='ae_model')\n",
    "ae_model.summary()"
   ]
  },
  {
   "cell_type": "markdown",
   "metadata": {},
   "source": [
    "What loss shoud we use ? Choose the usual one and import it directly from Keras. You can use a simple ```SGD``` optimizer, and then compile the model; finally, train it to rebuild images from the original examples.  "
   ]
  },
  {
   "cell_type": "markdown",
   "metadata": {},
   "source": [
    "##### We use Mean Squarred Error as Loss function because our data isn't normalized between [0,1]."
   ]
  },
  {
   "cell_type": "code",
   "execution_count": 231,
   "metadata": {},
   "outputs": [],
   "source": [
    "from tensorflow.keras.losses import MSE\n",
    "\n",
    "loss = 'MSE'\n",
    "optimizer = SGD(lr=1e-1)\n",
    "\n",
    "ae_model.compile(optimizer=optimizer, loss=loss) "
   ]
  },
  {
   "cell_type": "code",
   "execution_count": 233,
   "metadata": {},
   "outputs": [
    {
     "name": "stdout",
     "output_type": "stream",
     "text": [
      "Train on 60000 samples, validate on 10000 samples\n",
      "Epoch 1/10\n",
      "60000/60000 [==============================] - 4s 67us/step - loss: 1.0102 - val_loss: 1.0039\n",
      "Epoch 2/10\n",
      "60000/60000 [==============================] - 4s 61us/step - loss: 0.9958 - val_loss: 0.9878\n",
      "Epoch 3/10\n",
      "60000/60000 [==============================] - 4s 66us/step - loss: 0.9778 - val_loss: 0.9678\n",
      "Epoch 4/10\n",
      "60000/60000 [==============================] - 4s 59us/step - loss: 0.9563 - val_loss: 0.9456\n",
      "Epoch 5/10\n",
      "60000/60000 [==============================] - 4s 63us/step - loss: 0.9346 - val_loss: 0.9254\n",
      "Epoch 6/10\n",
      "60000/60000 [==============================] - 4s 65us/step - loss: 0.9169 - val_loss: 0.9103\n",
      "Epoch 7/10\n",
      "60000/60000 [==============================] - 4s 69us/step - loss: 0.9043 - val_loss: 0.8999\n",
      "Epoch 8/10\n",
      "60000/60000 [==============================] - 4s 59us/step - loss: 0.8956 - val_loss: 0.8927\n",
      "Epoch 9/10\n",
      "60000/60000 [==============================] - 4s 62us/step - loss: 0.8896 - val_loss: 0.8877\n",
      "Epoch 10/10\n",
      "60000/60000 [==============================] - 4s 67us/step - loss: 0.8854 - val_loss: 0.8841\n"
     ]
    }
   ],
   "source": [
    "batch_size = 128\n",
    "epochs = 10\n",
    "# No noise here - we want to train a simple auto-encoder and compare visually with PCA\n",
    "history = ae_model.fit(train_images,\n",
    "                       train_images,\n",
    "                       epochs=epochs,\n",
    "                       batch_size=batch_size,\n",
    "                       verbose=1,\n",
    "                       shuffle=True,\n",
    "                       validation_data=(test_images,test_images))"
   ]
  },
  {
   "cell_type": "code",
   "execution_count": 234,
   "metadata": {},
   "outputs": [
    {
     "name": "stdout",
     "output_type": "stream",
     "text": [
      "_________________________________________________________________\n",
      "Layer (type)                 Output Shape              Param #   \n",
      "=================================================================\n",
      "input_12 (InputLayer)        (None, 784)               0         \n",
      "_________________________________________________________________\n",
      "dense_33 (Dense)             (None, 2)                 1570      \n",
      "_________________________________________________________________\n",
      "dense_34 (Dense)             (None, 784)               2352      \n",
      "=================================================================\n",
      "Total params: 3,922\n",
      "Trainable params: 3,922\n",
      "Non-trainable params: 0\n",
      "_________________________________________________________________\n"
     ]
    }
   ],
   "source": [
    "ae_model.summary()"
   ]
  },
  {
   "cell_type": "markdown",
   "metadata": {},
   "source": [
    "Assuming that the name of your layer (obtained through the command ```model.summary()```) is ```'layer'```, here is the way to obtained the weights. Visualize the weights of the encoder and compare them to the two components obtained through the PCA."
   ]
  },
  {
   "cell_type": "code",
   "execution_count": 236,
   "metadata": {},
   "outputs": [],
   "source": [
    "layer='dense_33'\n",
    "weights, bias = ae_model.get_layer(layer).get_weights()"
   ]
  },
  {
   "cell_type": "code",
   "execution_count": 237,
   "metadata": {},
   "outputs": [
    {
     "data": {
      "text/plain": [
       "<matplotlib.image.AxesImage at 0x7f98d07e9278>"
      ]
     },
     "execution_count": 237,
     "metadata": {},
     "output_type": "execute_result"
    },
    {
     "data": {
      "image/png": "[encoded data removed]",
      "text/plain": [
       "<Figure size 432x432 with 2 Axes>"
      ]
     },
     "metadata": {
      "needs_background": "light"
     },
     "output_type": "display_data"
    }
   ],
   "source": [
    "# Show the two dimensions of the encoder, in a similar manner to the principal components\n",
    "# (after reshaping them as images !)\n",
    "# START CODE HERE\n",
    "fig, axes = plt.subplots(1, 2, figsize=(6,6))\n",
    "ax=axes[0]\n",
    "ax.imshow(weights.T[0].reshape(28,28))\n",
    "\n",
    "ax=axes[1]\n",
    "ax.imshow(weights.T[1].reshape(28,28))\n",
    "\n",
    "# END CODE HERE"
   ]
  },
  {
   "cell_type": "markdown",
   "metadata": {},
   "source": [
    "Now, visualize the images rebuild by the network !"
   ]
  },
  {
   "cell_type": "code",
   "execution_count": 238,
   "metadata": {},
   "outputs": [],
   "source": [
    "# Select a few images at random: look from n\n",
    "n = np.random.randint(0,len(test_images)-5)\n"
   ]
  },
  {
   "cell_type": "code",
   "execution_count": null,
   "metadata": {},
   "outputs": [],
   "source": [
    "# Plot a few images from n  \n",
    "f, axe = plt.subplots(1,5, figsize=(10,10))\n",
    "for i,a in enumerate(range(n,n+5)):\n",
    "    # START CODE HERE\n",
    "    ax = axe[i]\n",
    "    ax.imshow(test_images[a].reshape(28,28))\n",
    "    ax.set_title(\"Before\")\n",
    "    # END CODE HERE"
   ]
  },
  {
   "cell_type": "code",
   "execution_count": null,
   "metadata": {},
   "outputs": [],
   "source": [
    "# Get the prediction from the model \n",
    "# START CODE HERE\n",
    "predictions=ae_model.predict(test_images)\n",
    "# END CODE HERE\n",
    "\n",
    "# ... and plot them \n",
    "f, ax = plt.subplots(1,5,figsize=(10,10))\n",
    "for i,a in enumerate(range(n,n+5)):\n",
    "    # START CODE HERE\n",
    "    axe= ax[i]\n",
    "    axe.imshow(predictions[a].reshape(28,28))\n",
    "    axe.set_title(\"Rebuilt\")\n",
    "    # END CODE HERE"
   ]
  },
  {
   "cell_type": "markdown",
   "metadata": {},
   "source": [
    "Do the same ( = build a new model) with a latent dimension that is largely higher than 2. Compare the visualizations and the images that are rebuilt. "
   ]
  },
  {
   "cell_type": "code",
   "execution_count": 271,
   "metadata": {},
   "outputs": [
    {
     "name": "stdout",
     "output_type": "stream",
     "text": [
      "Train on 60000 samples, validate on 10000 samples\n",
      "Epoch 1/10\n",
      "60000/60000 [==============================] - 7s 110us/step - loss: 1.1617 - val_loss: 1.1509\n",
      "Epoch 2/10\n",
      "60000/60000 [==============================] - 6s 102us/step - loss: 1.1384 - val_loss: 1.1205\n",
      "Epoch 3/10\n",
      "60000/60000 [==============================] - 6s 99us/step - loss: 1.0993 - val_loss: 1.0764\n",
      "Epoch 4/10\n",
      "60000/60000 [==============================] - 6s 100us/step - loss: 1.0564 - val_loss: 1.0380\n",
      "Epoch 5/10\n",
      "60000/60000 [==============================] - 6s 101us/step - loss: 1.0211 - val_loss: 1.0059\n",
      "Epoch 6/10\n",
      "60000/60000 [==============================] - 6s 100us/step - loss: 0.9904 - val_loss: 0.9759\n",
      "Epoch 7/10\n",
      "60000/60000 [==============================] - 6s 100us/step - loss: 0.9602 - val_loss: 0.9444\n",
      "Epoch 8/10\n",
      "60000/60000 [==============================] - 6s 100us/step - loss: 0.9273 - val_loss: 0.9092\n",
      "Epoch 9/10\n",
      "60000/60000 [==============================] - 6s 99us/step - loss: 0.8908 - val_loss: 0.8715\n",
      "Epoch 10/10\n",
      "60000/60000 [==============================] - 6s 100us/step - loss: 0.8537 - val_loss: 0.8361\n"
     ]
    },
    {
     "data": {
      "image/png": "[encoded data removed]",
      "text/plain": [
       "<Figure size 720x720 with 5 Axes>"
      ]
     },
     "metadata": {
      "needs_background": "light"
     },
     "output_type": "display_data"
    },
    {
     "data": {
      "image/png": "[encoded data removed]",
      "text/plain": [
       "<Figure size 720x720 with 5 Axes>"
      ]
     },
     "metadata": {
      "needs_background": "light"
     },
     "output_type": "display_data"
    }
   ],
   "source": [
    "# START CODE HERE\n",
    "\n",
    "#NEW LATENT\n",
    "latent_view_high_dim = Dense(32)(input_layer)\n",
    "output_layer = Dense(784, activation='sigmoid')(latent_view_high_dim)\n",
    "ae_model_high_dim = Model(input_layer, output_layer, name='ae_model')\n",
    "\n",
    "#COMPILE\n",
    "ae_model_high_dim.compile(optimizer=optimizer, loss=loss) \n",
    "\n",
    "#FIT 10 EPOCH\n",
    "batch_size = 128\n",
    "epochs = 10\n",
    "# No noise here - we want to train a simple auto-encoder and compare visually with PCA\n",
    "history = ae_model_high_dim.fit(train_images,\n",
    "                       train_images,\n",
    "                       epochs=epochs,\n",
    "                       batch_size=batch_size,\n",
    "                       verbose=1,\n",
    "                       shuffle=True,\n",
    "                       validation_data=(test_images,test_images))\n",
    "\n",
    "#PRINT RANDOM IMAGES REBUILT\n",
    "n = np.random.randint(0,len(test_images)-5)\n",
    "predictions_high_dim=ae_model_high_dim.predict(test_images)\n",
    "\n",
    "f, axe = plt.subplots(1,5, figsize=(10,10))\n",
    "for i,a in enumerate(range(n,n+5)):\n",
    "    # START CODE HERE\n",
    "    ax = axe[i]\n",
    "    ax.imshow(test_images[a].reshape(28,28))\n",
    "    ax.set_title(\"Before\")\n",
    "    \n",
    "f, axe = plt.subplots(1,5, figsize=(10,10))\n",
    "for i,a in enumerate(range(n,n+5)):\n",
    "    ax = axe[i]\n",
    "    ax.imshow(predictions_high_dim[a].reshape(28,28))\n",
    "    ax.set_title(\"Rebuilt\")\n",
    "    \n",
    "# END CODE HERE"
   ]
  },
  {
   "cell_type": "markdown",
   "metadata": {},
   "source": [
    "##### Much better with high dimensions !"
   ]
  },
  {
   "cell_type": "markdown",
   "metadata": {},
   "source": [
    "## Denoising auto-encoder "
   ]
  },
  {
   "cell_type": "markdown",
   "metadata": {},
   "source": [
    "Now, we can implement a **de-noising autoencoder**. The following function will transform an array of images by adding it random noise. Create a new autoencoder model, this time with **more layers** and **non-linear activations** (like the ReLU) and train it to rebuild the de-noised images. Display some testing images, with noise, and re-built. "
   ]
  },
  {
   "cell_type": "code",
   "execution_count": 258,
   "metadata": {},
   "outputs": [],
   "source": [
    "def noise(array):\n",
    "    \"\"\"\n",
    "    Adds random noise to each image in the supplied array.\n",
    "    \"\"\"\n",
    "    noise_factor = 0.4\n",
    "    noisy_array = array + noise_factor * np.random.normal(\n",
    "        loc=0.0, scale=1.0, size=array.shape\n",
    "    )\n",
    "    return noisy_array"
   ]
  },
  {
   "cell_type": "code",
   "execution_count": 259,
   "metadata": {},
   "outputs": [],
   "source": [
    "# Create a copy of the data with added noise\n",
    "noisy_train_images = noise(train_images)\n",
    "noisy_test_images = noise(test_images)"
   ]
  },
  {
   "cell_type": "code",
   "execution_count": 260,
   "metadata": {},
   "outputs": [
    {
     "data": {
      "image/png": "[encoded data removed]",
      "text/plain": [
       "<Figure size 720x720 with 10 Axes>"
      ]
     },
     "metadata": {
      "needs_background": "light"
     },
     "output_type": "display_data"
    }
   ],
   "source": [
    "# Visualize some of the images with noise against the originals\n",
    "# START CODE HERE\n",
    "\n",
    "# Select a few images at random: look from n\n",
    "n = np.random.randint(0,len(test_images)-5)\n",
    "predictions=ae_model.predict(test_images)\n",
    "\n",
    "# Plot a few images from n  \n",
    "f, axe = plt.subplots(2,5, figsize=(10,10))\n",
    "for i,a in enumerate(range(n,n+5)):\n",
    "    # START CODE HERE\n",
    "    ax = axe[0,i]\n",
    "    ax.imshow(noisy_train_images[a].reshape(28,28))\n",
    "    ax.set_title(\"Noisy\")\n",
    "    ax = axe[1,i]\n",
    "    ax.imshow(train_images[a].reshape(28,28),label='Original')\n",
    "    ax.set_title(\"Original\")\n",
    "\n",
    "    # END CODE HERE\n",
    "\n",
    "# END CODE HERE"
   ]
  },
  {
   "cell_type": "code",
   "execution_count": 261,
   "metadata": {},
   "outputs": [],
   "source": [
    "# Build a new model with more layers and Relu activations\n",
    "# START CODE HERE\n",
    "\n",
    "#NEW LATENT\n",
    "latent_view_noisy = Dense(32)(input_layer)\n",
    "output_layer = Dense(784, activation='relu')(latent_view_noisy)\n",
    "ae_model_noisy = Model(input_layer, output_layer, name='ae_model_noisy')\n",
    "\n",
    "    \n",
    "# END CODE HERE\n",
    "# END CODE HERE"
   ]
  },
  {
   "cell_type": "code",
   "execution_count": 266,
   "metadata": {},
   "outputs": [
    {
     "name": "stdout",
     "output_type": "stream",
     "text": [
      "Train on 60000 samples, validate on 10000 samples\n",
      "Epoch 1/10\n",
      "60000/60000 [==============================] - 7s 110us/step - loss: 0.4754 - val_loss: 0.4771\n",
      "Epoch 2/10\n",
      "60000/60000 [==============================] - 6s 97us/step - loss: 0.4715 - val_loss: 0.4758\n",
      "Epoch 3/10\n",
      "60000/60000 [==============================] - 6s 98us/step - loss: 0.4694 - val_loss: 0.4746\n",
      "Epoch 4/10\n",
      "60000/60000 [==============================] - 6s 97us/step - loss: 0.4679 - val_loss: 0.4748\n",
      "Epoch 5/10\n",
      "60000/60000 [==============================] - 6s 97us/step - loss: 0.4666 - val_loss: 0.4730\n",
      "Epoch 6/10\n",
      "60000/60000 [==============================] - 6s 97us/step - loss: 0.4655 - val_loss: 0.4719\n",
      "Epoch 7/10\n",
      "60000/60000 [==============================] - 6s 97us/step - loss: 0.4644 - val_loss: 0.4707\n",
      "Epoch 8/10\n",
      "60000/60000 [==============================] - 6s 97us/step - loss: 0.4635 - val_loss: 0.4703\n",
      "Epoch 9/10\n",
      "60000/60000 [==============================] - 6s 97us/step - loss: 0.4626 - val_loss: 0.4689\n",
      "Epoch 10/10\n",
      "60000/60000 [==============================] - 6s 97us/step - loss: 0.4618 - val_loss: 0.4684\n"
     ]
    }
   ],
   "source": [
    "# Compile it but here, use noised data as inputs !\n",
    "# START CODE HERE\n",
    "#COMPILE\n",
    "ae_model_noisy.compile(optimizer=optimizer, loss=loss) \n",
    "\n",
    "#FIT 10 EPOCH\n",
    "batch_size = 128\n",
    "epochs = 10\n",
    "# No noise here - we want to train a simple auto-encoder and compare visually with PCA\n",
    "history = ae_model_noisy.fit(noisy_train_images,\n",
    "                       noisy_train_images,\n",
    "                       epochs=epochs,\n",
    "                       batch_size=batch_size,\n",
    "                       verbose=1,\n",
    "                       shuffle=True,\n",
    "                       validation_data=(noisy_test_images,noisy_test_images))\n",
    "# END CODE HERE"
   ]
  },
  {
   "cell_type": "code",
   "execution_count": 269,
   "metadata": {},
   "outputs": [
    {
     "data": {
      "image/png": "[encoded data removed]",
      "text/plain": [
       "<Figure size 720x720 with 5 Axes>"
      ]
     },
     "metadata": {
      "needs_background": "light"
     },
     "output_type": "display_data"
    },
    {
     "data": {
      "image/png": "[encoded data removed]",
      "text/plain": [
       "<Figure size 720x720 with 5 Axes>"
      ]
     },
     "metadata": {
      "needs_background": "light"
     },
     "output_type": "display_data"
    }
   ],
   "source": [
    "# Visualize the images rebuilt by the model !\n",
    "# START CODE HERE\n",
    "\n",
    "#PRINT RANDOM IMAGES REBUILT\n",
    "n = np.random.randint(0,len(noisy_test_images-5))\n",
    "\n",
    "predictions_noisy = ae_model_noisy.predict(noisy_test_images)\n",
    "\n",
    "f, axe = plt.subplots(1,5, figsize=(10,10))\n",
    "for i,a in enumerate(range(n,n+5)):\n",
    "    # START CODE HERE\n",
    "    ax = axe[i]\n",
    "    ax.imshow(noisy_test_images[a].reshape(28,28))\n",
    "    ax.set_title('noisy before')\n",
    "    \n",
    "\n",
    "f, axe = plt.subplots(1,5, figsize=(10,10))\n",
    "for i,a in enumerate(range(n,n+5)):\n",
    "    ax = axe[i]\n",
    "    ax.imshow(predictions_noisy[a].reshape(28,28))\n",
    "    ax.set_title('rebuilt')\n",
    "# END CODE HERE\n"
   ]
  },
  {
   "cell_type": "markdown",
   "metadata": {},
   "source": [
    "**Assuming that we normalize the images to be in the 0-1 range, what other loss function could we use ?**"
   ]
  },
  {
   "cell_type": "markdown",
   "metadata": {},
   "source": [
    "##### We can also use Binary Cross Entropy as the loss function, only if the images are normalized between 0 and 1, here we have a 0 mean so negative value possibly."
   ]
  }
 ],
 "metadata": {
  "accelerator": "GPU",
  "colab": {
   "collapsed_sections": [],
   "name": "TP4_1_solution.ipynb",
   "provenance": []
  },
  "kernelspec": {
   "display_name": "Python 3",
   "language": "python",
   "name": "python3"
  },
  "language_info": {
   "codemirror_mode": {
    "name": "ipython",
    "version": 3
   },
   "file_extension": ".py",
   "mimetype": "text/x-python",
   "name": "python",
   "nbconvert_exporter": "python",
   "pygments_lexer": "ipython3",
   "version": "3.5.6"
  }
 },
 "nbformat": 4,
 "nbformat_minor": 1
}
